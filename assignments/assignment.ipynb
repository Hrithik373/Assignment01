{
 "cells": [
  {
   "cell_type": "code",
   "execution_count": 2,
   "id": "523b41db-9e46-4f98-b279-50e46c14bb26",
   "metadata": {},
   "outputs": [],
   "source": [
    "import pandas as pd\n",
    "import numpy as np \n",
    "from sklearn.preprocessing import LabelEncoder, MinMaxScaler\n",
    "import matplotlib.pyplot as plt\n",
    "import seaborn as sns"
   ]
  },
  {
   "cell_type": "code",
   "execution_count": 3,
   "id": "b2fce2c6-8861-4908-835f-423510d9b8a5",
   "metadata": {},
   "outputs": [],
   "source": [
    "df = pd.read_csv(\"Retail.csv\")"
   ]
  },
  {
   "cell_type": "code",
   "execution_count": 4,
   "id": "75fc6fda-2d38-4219-b59b-61f6a553ad4d",
   "metadata": {},
   "outputs": [
    {
     "data": {
      "text/html": [
       "<div>\n",
       "<style scoped>\n",
       "    .dataframe tbody tr th:only-of-type {\n",
       "        vertical-align: middle;\n",
       "    }\n",
       "\n",
       "    .dataframe tbody tr th {\n",
       "        vertical-align: top;\n",
       "    }\n",
       "\n",
       "    .dataframe thead th {\n",
       "        text-align: right;\n",
       "    }\n",
       "</style>\n",
       "<table border=\"1\" class=\"dataframe\">\n",
       "  <thead>\n",
       "    <tr style=\"text-align: right;\">\n",
       "      <th></th>\n",
       "      <th>TransactionID</th>\n",
       "      <th>CustomerID</th>\n",
       "      <th>Gender</th>\n",
       "      <th>Age</th>\n",
       "      <th>City</th>\n",
       "      <th>ProductCategory</th>\n",
       "      <th>Quantity</th>\n",
       "      <th>Price</th>\n",
       "      <th>PurchaseDate</th>\n",
       "      <th>PaymentMode</th>\n",
       "      <th>TotalAmount</th>\n",
       "    </tr>\n",
       "  </thead>\n",
       "  <tbody>\n",
       "    <tr>\n",
       "      <th>0</th>\n",
       "      <td>T00001</td>\n",
       "      <td>C2824</td>\n",
       "      <td>Female</td>\n",
       "      <td>33</td>\n",
       "      <td>Bengaluru</td>\n",
       "      <td>Fashion</td>\n",
       "      <td>3</td>\n",
       "      <td>4479</td>\n",
       "      <td>2023-03-15</td>\n",
       "      <td>Cash</td>\n",
       "      <td>13437</td>\n",
       "    </tr>\n",
       "    <tr>\n",
       "      <th>1</th>\n",
       "      <td>T00002</td>\n",
       "      <td>C1409</td>\n",
       "      <td>Other</td>\n",
       "      <td>20</td>\n",
       "      <td>Pune</td>\n",
       "      <td>Books</td>\n",
       "      <td>5</td>\n",
       "      <td>1051</td>\n",
       "      <td>2023-01-22</td>\n",
       "      <td>Card</td>\n",
       "      <td>5255</td>\n",
       "    </tr>\n",
       "    <tr>\n",
       "      <th>2</th>\n",
       "      <td>T00003</td>\n",
       "      <td>C5506</td>\n",
       "      <td>Other</td>\n",
       "      <td>47</td>\n",
       "      <td>Pune</td>\n",
       "      <td>Furniture</td>\n",
       "      <td>1</td>\n",
       "      <td>111</td>\n",
       "      <td>2023-04-18</td>\n",
       "      <td>Wallet</td>\n",
       "      <td>111</td>\n",
       "    </tr>\n",
       "    <tr>\n",
       "      <th>3</th>\n",
       "      <td>T00004</td>\n",
       "      <td>C5012</td>\n",
       "      <td>Other</td>\n",
       "      <td>21</td>\n",
       "      <td>Hyderabad</td>\n",
       "      <td>Groceries</td>\n",
       "      <td>5</td>\n",
       "      <td>2946</td>\n",
       "      <td>2023-08-09</td>\n",
       "      <td>Cash</td>\n",
       "      <td>14730</td>\n",
       "    </tr>\n",
       "    <tr>\n",
       "      <th>4</th>\n",
       "      <td>T00005</td>\n",
       "      <td>C4657</td>\n",
       "      <td>Female</td>\n",
       "      <td>41</td>\n",
       "      <td>Chennai</td>\n",
       "      <td>Sports</td>\n",
       "      <td>1</td>\n",
       "      <td>3123</td>\n",
       "      <td>2023-09-23</td>\n",
       "      <td>Wallet</td>\n",
       "      <td>3123</td>\n",
       "    </tr>\n",
       "  </tbody>\n",
       "</table>\n",
       "</div>"
      ],
      "text/plain": [
       "  TransactionID CustomerID  Gender  Age       City ProductCategory  Quantity  \\\n",
       "0        T00001      C2824  Female   33  Bengaluru         Fashion         3   \n",
       "1        T00002      C1409   Other   20       Pune           Books         5   \n",
       "2        T00003      C5506   Other   47       Pune       Furniture         1   \n",
       "3        T00004      C5012   Other   21  Hyderabad       Groceries         5   \n",
       "4        T00005      C4657  Female   41    Chennai          Sports         1   \n",
       "\n",
       "   Price PurchaseDate PaymentMode  TotalAmount  \n",
       "0   4479   2023-03-15        Cash        13437  \n",
       "1   1051   2023-01-22        Card         5255  \n",
       "2    111   2023-04-18      Wallet          111  \n",
       "3   2946   2023-08-09        Cash        14730  \n",
       "4   3123   2023-09-23      Wallet         3123  "
      ]
     },
     "execution_count": 4,
     "metadata": {},
     "output_type": "execute_result"
    }
   ],
   "source": [
    "df.head()"
   ]
  },
  {
   "cell_type": "code",
   "execution_count": 5,
   "id": "098a3777-107f-4e21-905f-f90d10682e56",
   "metadata": {},
   "outputs": [
    {
     "name": "stdout",
     "output_type": "stream",
     "text": [
      "Initial Shape (2000, 11)\n",
      "\n",
      "Data Types: \n",
      " TransactionID      object\n",
      "CustomerID         object\n",
      "Gender             object\n",
      "Age                 int64\n",
      "City               object\n",
      "ProductCategory    object\n",
      "Quantity            int64\n",
      "Price               int64\n",
      "PurchaseDate       object\n",
      "PaymentMode        object\n",
      "TotalAmount         int64\n",
      "dtype: object\n"
     ]
    }
   ],
   "source": [
    "#inspecting the dataset\n",
    "print(\"Initial Shape\", df.shape)\n",
    "print(\"\\nData Types: \\n\", df.dtypes)"
   ]
  },
  {
   "cell_type": "code",
   "execution_count": 6,
   "id": "3302487d-65bb-4504-8f4e-5ffe5e1de166",
   "metadata": {},
   "outputs": [
    {
     "name": "stdout",
     "output_type": "stream",
     "text": [
      "\n",
      "Total Missing Values: \n",
      " TransactionID      0\n",
      "CustomerID         0\n",
      "Gender             0\n",
      "Age                0\n",
      "City               0\n",
      "ProductCategory    0\n",
      "Quantity           0\n",
      "Price              0\n",
      "PurchaseDate       0\n",
      "PaymentMode        0\n",
      "TotalAmount        0\n",
      "dtype: int64\n",
      "\n",
      "Duplicate Rows: 0\n"
     ]
    }
   ],
   "source": [
    "#missing values and duplicates\n",
    "print(\"\\nTotal Missing Values: \\n\", df.isnull().sum())\n",
    "print(\"\\nDuplicate Rows:\",df.duplicated().sum())"
   ]
  },
  {
   "cell_type": "code",
   "execution_count": 7,
   "id": "bd630648-366f-4887-9fe1-e89d8cf51313",
   "metadata": {},
   "outputs": [
    {
     "name": "stdout",
     "output_type": "stream",
     "text": [
      "Number of rows with missing TransactionID or ProductCategory: 0\n",
      "Empty DataFrame\n",
      "Columns: [TransactionID, CustomerID, Gender, Age, City, ProductCategory, Quantity, Price, PurchaseDate, PaymentMode, TotalAmount]\n",
      "Index: []\n"
     ]
    }
   ],
   "source": [
    "# Check if there are missing values in TransactionID or ProductCategory\n",
    "missing_rows = df[df[['TransactionID', 'ProductCategory']].isnull().any(axis=1)]\n",
    "\n",
    "# Show how many rows are missing\n",
    "print(\"Number of rows with missing TransactionID or ProductCategory:\", len(missing_rows))\n",
    "\n",
    "# Optionally display the actual rows\n",
    "print(missing_rows)"
   ]
  },
  {
   "cell_type": "code",
   "execution_count": 8,
   "id": "8ee9331b-87df-4c53-95a1-3316e0aafb03",
   "metadata": {},
   "outputs": [],
   "source": [
    "#not nececessary to run as theres no missing transcation ID or product category\n",
    "#handle missing values\n",
    "df['Age'] = df['Age'].fillna(df['Age'].median())\n",
    "if 'City' in df.columns:\n",
    "    df['City']= df['City'].fillna(df['City'].mode()[0])\n",
    "\n",
    "#drop rows with missing transcation ID or product category\n",
    "df = df.dropna(subset = ['TransactionID', 'ProductCategory'])"
   ]
  },
  {
   "cell_type": "code",
   "execution_count": 9,
   "id": "cf048372-48aa-4970-9e17-ac792a850359",
   "metadata": {},
   "outputs": [],
   "source": [
    "#data cleaning dropping duplicates\n",
    "df = df.drop_duplicates()"
   ]
  },
  {
   "cell_type": "code",
   "execution_count": 11,
   "id": "b24f1c1b-b23f-4156-ae9d-cca3966b0e08",
   "metadata": {},
   "outputs": [
    {
     "data": {
      "text/html": [
       "<div>\n",
       "<style scoped>\n",
       "    .dataframe tbody tr th:only-of-type {\n",
       "        vertical-align: middle;\n",
       "    }\n",
       "\n",
       "    .dataframe tbody tr th {\n",
       "        vertical-align: top;\n",
       "    }\n",
       "\n",
       "    .dataframe thead th {\n",
       "        text-align: right;\n",
       "    }\n",
       "</style>\n",
       "<table border=\"1\" class=\"dataframe\">\n",
       "  <thead>\n",
       "    <tr style=\"text-align: right;\">\n",
       "      <th></th>\n",
       "      <th>TransactionID</th>\n",
       "      <th>CustomerID</th>\n",
       "      <th>Gender</th>\n",
       "      <th>Age</th>\n",
       "      <th>City</th>\n",
       "      <th>ProductCategory</th>\n",
       "      <th>Quantity</th>\n",
       "      <th>Price</th>\n",
       "      <th>PurchaseDate</th>\n",
       "      <th>PaymentMode</th>\n",
       "      <th>TotalAmount</th>\n",
       "    </tr>\n",
       "  </thead>\n",
       "  <tbody>\n",
       "    <tr>\n",
       "      <th>0</th>\n",
       "      <td>T00001</td>\n",
       "      <td>C2824</td>\n",
       "      <td>Female</td>\n",
       "      <td>33</td>\n",
       "      <td>Bengaluru</td>\n",
       "      <td>Fashion</td>\n",
       "      <td>3</td>\n",
       "      <td>4479</td>\n",
       "      <td>2023-03-15</td>\n",
       "      <td>Cash</td>\n",
       "      <td>13437</td>\n",
       "    </tr>\n",
       "    <tr>\n",
       "      <th>1</th>\n",
       "      <td>T00002</td>\n",
       "      <td>C1409</td>\n",
       "      <td>Other</td>\n",
       "      <td>20</td>\n",
       "      <td>Pune</td>\n",
       "      <td>Books</td>\n",
       "      <td>5</td>\n",
       "      <td>1051</td>\n",
       "      <td>2023-01-22</td>\n",
       "      <td>Card</td>\n",
       "      <td>5255</td>\n",
       "    </tr>\n",
       "    <tr>\n",
       "      <th>2</th>\n",
       "      <td>T00003</td>\n",
       "      <td>C5506</td>\n",
       "      <td>Other</td>\n",
       "      <td>47</td>\n",
       "      <td>Pune</td>\n",
       "      <td>Furniture</td>\n",
       "      <td>1</td>\n",
       "      <td>111</td>\n",
       "      <td>2023-04-18</td>\n",
       "      <td>Wallet</td>\n",
       "      <td>111</td>\n",
       "    </tr>\n",
       "    <tr>\n",
       "      <th>3</th>\n",
       "      <td>T00004</td>\n",
       "      <td>C5012</td>\n",
       "      <td>Other</td>\n",
       "      <td>21</td>\n",
       "      <td>Hyderabad</td>\n",
       "      <td>Groceries</td>\n",
       "      <td>5</td>\n",
       "      <td>2946</td>\n",
       "      <td>2023-08-09</td>\n",
       "      <td>Cash</td>\n",
       "      <td>14730</td>\n",
       "    </tr>\n",
       "    <tr>\n",
       "      <th>4</th>\n",
       "      <td>T00005</td>\n",
       "      <td>C4657</td>\n",
       "      <td>Female</td>\n",
       "      <td>41</td>\n",
       "      <td>Chennai</td>\n",
       "      <td>Sports</td>\n",
       "      <td>1</td>\n",
       "      <td>3123</td>\n",
       "      <td>2023-09-23</td>\n",
       "      <td>Wallet</td>\n",
       "      <td>3123</td>\n",
       "    </tr>\n",
       "    <tr>\n",
       "      <th>5</th>\n",
       "      <td>T00006</td>\n",
       "      <td>C3286</td>\n",
       "      <td>Male</td>\n",
       "      <td>63</td>\n",
       "      <td>Delhi</td>\n",
       "      <td>Furniture</td>\n",
       "      <td>2</td>\n",
       "      <td>2758</td>\n",
       "      <td>2023-05-23</td>\n",
       "      <td>Card</td>\n",
       "      <td>5516</td>\n",
       "    </tr>\n",
       "    <tr>\n",
       "      <th>6</th>\n",
       "      <td>T00007</td>\n",
       "      <td>C2679</td>\n",
       "      <td>Other</td>\n",
       "      <td>30</td>\n",
       "      <td>Pune</td>\n",
       "      <td>Electronics</td>\n",
       "      <td>5</td>\n",
       "      <td>781</td>\n",
       "      <td>2023-10-22</td>\n",
       "      <td>Card</td>\n",
       "      <td>3905</td>\n",
       "    </tr>\n",
       "    <tr>\n",
       "      <th>7</th>\n",
       "      <td>T00008</td>\n",
       "      <td>C9935</td>\n",
       "      <td>Female</td>\n",
       "      <td>35</td>\n",
       "      <td>Hyderabad</td>\n",
       "      <td>Books</td>\n",
       "      <td>5</td>\n",
       "      <td>4599</td>\n",
       "      <td>2023-11-12</td>\n",
       "      <td>Cash</td>\n",
       "      <td>22995</td>\n",
       "    </tr>\n",
       "    <tr>\n",
       "      <th>8</th>\n",
       "      <td>T00009</td>\n",
       "      <td>C2424</td>\n",
       "      <td>Female</td>\n",
       "      <td>41</td>\n",
       "      <td>Jaipur</td>\n",
       "      <td>Books</td>\n",
       "      <td>5</td>\n",
       "      <td>2263</td>\n",
       "      <td>2023-06-10</td>\n",
       "      <td>Cash</td>\n",
       "      <td>11315</td>\n",
       "    </tr>\n",
       "    <tr>\n",
       "      <th>9</th>\n",
       "      <td>T00010</td>\n",
       "      <td>C7912</td>\n",
       "      <td>Male</td>\n",
       "      <td>70</td>\n",
       "      <td>Lucknow</td>\n",
       "      <td>Groceries</td>\n",
       "      <td>1</td>\n",
       "      <td>1194</td>\n",
       "      <td>2023-02-20</td>\n",
       "      <td>UPI</td>\n",
       "      <td>1194</td>\n",
       "    </tr>\n",
       "  </tbody>\n",
       "</table>\n",
       "</div>"
      ],
      "text/plain": [
       "  TransactionID CustomerID  Gender  Age       City ProductCategory  Quantity  \\\n",
       "0        T00001      C2824  Female   33  Bengaluru         Fashion         3   \n",
       "1        T00002      C1409   Other   20       Pune           Books         5   \n",
       "2        T00003      C5506   Other   47       Pune       Furniture         1   \n",
       "3        T00004      C5012   Other   21  Hyderabad       Groceries         5   \n",
       "4        T00005      C4657  Female   41    Chennai          Sports         1   \n",
       "5        T00006      C3286    Male   63      Delhi       Furniture         2   \n",
       "6        T00007      C2679   Other   30       Pune     Electronics         5   \n",
       "7        T00008      C9935  Female   35  Hyderabad           Books         5   \n",
       "8        T00009      C2424  Female   41     Jaipur           Books         5   \n",
       "9        T00010      C7912    Male   70    Lucknow       Groceries         1   \n",
       "\n",
       "   Price PurchaseDate PaymentMode  TotalAmount  \n",
       "0   4479   2023-03-15        Cash        13437  \n",
       "1   1051   2023-01-22        Card         5255  \n",
       "2    111   2023-04-18      Wallet          111  \n",
       "3   2946   2023-08-09        Cash        14730  \n",
       "4   3123   2023-09-23      Wallet         3123  \n",
       "5   2758   2023-05-23        Card         5516  \n",
       "6    781   2023-10-22        Card         3905  \n",
       "7   4599   2023-11-12        Cash        22995  \n",
       "8   2263   2023-06-10        Cash        11315  \n",
       "9   1194   2023-02-20         UPI         1194  "
      ]
     },
     "execution_count": 11,
     "metadata": {},
     "output_type": "execute_result"
    }
   ],
   "source": [
    "df.head(10)"
   ]
  },
  {
   "cell_type": "code",
   "execution_count": 12,
   "id": "94c67bd5-4acf-4490-8215-c5359d1bfb09",
   "metadata": {},
   "outputs": [
    {
     "name": "stdout",
     "output_type": "stream",
     "text": [
      "Missing values: 0\n",
      "Rows with extra spaces:\n",
      " []\n",
      "Rows with lowercase entries:\n",
      " []\n",
      "Short values:\n",
      " []\n",
      "All unique Gender values:\n",
      " ['Female' 'Other' 'Male']\n"
     ]
    }
   ],
   "source": [
    "if 'Gender' in df.columns:\n",
    "    # 1. Check for missing values\n",
    "    print(\"Missing values:\", df['Gender'].isna().sum())\n",
    "    # 2. Check for leading/trailing spaces\n",
    "    with_spaces = df[df['Gender'].astype(str) != df['Gender'].astype(str).str.strip()]\n",
    "    print(\"Rows with extra spaces:\\n\", with_spaces['Gender'].unique())\n",
    "    # 3. Check for lowercase values\n",
    "    lowercase = df[df['Gender'].astype(str) == df['Gender'].astype(str).str.lower()]\n",
    "    print(\"Rows with lowercase entries:\\n\", lowercase['Gender'].unique())\n",
    "    # 4. Check for unusually short values (e.g., 1–2 characters like 'm' or 'f')\n",
    "    short_values = df[df['Gender'].astype(str).str.len() <= 2]\n",
    "    print(\"Short values:\\n\", short_values['Gender'].unique())\n",
    "    # 5. Show all unique values to review overall messiness\n",
    "    print(\"All unique Gender values:\\n\", df['Gender'].unique())"
   ]
  },
  {
   "cell_type": "code",
   "execution_count": 13,
   "id": "b20ccea9-7a9a-439f-b6bb-703aca6c7f28",
   "metadata": {},
   "outputs": [],
   "source": [
    "#standarize gender values\n",
    "if 'Gender' in df.columns:\n",
    "    df['Gender'] = df['Gender'].str.strip().str.lower().map({\n",
    "        'm': 'Male', 'male': 'Male', 'f': 'Female', 'female': 'Female'\n",
    "    }).fillna(df['Gender'])\n"
   ]
  },
  {
   "cell_type": "code",
   "execution_count": 14,
   "id": "aa92fb7e-ae59-4491-9ee4-4611018fa7fd",
   "metadata": {},
   "outputs": [
    {
     "name": "stdout",
     "output_type": "stream",
     "text": [
      "Rows with Quantity <= 0: 0\n",
      "Rows with Price <= 0: 0\n"
     ]
    }
   ],
   "source": [
    "#to check how many rows have non postive values\n",
    "print(\"Rows with Quantity <= 0:\", (df['Quantity'] <= 0).sum())\n",
    "print(\"Rows with Price <= 0:\", (df['Price'] <= 0).sum())\n"
   ]
  },
  {
   "cell_type": "code",
   "execution_count": 16,
   "id": "1d921a8b-1d91-447e-a7f7-6c657123b9eb",
   "metadata": {},
   "outputs": [
    {
     "name": "stdout",
     "output_type": "stream",
     "text": [
      "Empty DataFrame\n",
      "Columns: [TransactionID, CustomerID, Gender, Age, City, ProductCategory, Quantity, Price, PurchaseDate, PaymentMode, TotalAmount]\n",
      "Index: []\n"
     ]
    }
   ],
   "source": [
    "#check if a row has problems\n",
    "b_rows = df[(df['Quantity'] <= 0) | (df['Price'] <= 0)]\n",
    "print(b_rows)"
   ]
  },
  {
   "cell_type": "code",
   "execution_count": 20,
   "id": "1604f4e3-75e1-4753-944d-2a42f0d3028f",
   "metadata": {},
   "outputs": [
    {
     "name": "stdout",
     "output_type": "stream",
     "text": [
      "The result is an empty DataFrame as nothing matched the condition, where Quantity <= 0 or Price <= 0. The list of columns is shown but there are no rows (Index: []).\n"
     ]
    }
   ],
   "source": [
    "print(\"The result is an empty DataFrame as nothing matched the condition, \"\n",
    "      \"where Quantity <= 0 or Price <= 0. The list of columns is shown but there are no rows (Index: []).\")"
   ]
  },
  {
   "cell_type": "code",
   "execution_count": 21,
   "id": "72e99d13-c1f6-4609-8bb7-3b8bbb5edb56",
   "metadata": {},
   "outputs": [],
   "source": [
    "# Remove negative/zero Quantity and Price\n",
    "df = df[(df['Quantity'] > 0) & (df['Price'] > 0)]"
   ]
  },
  {
   "cell_type": "code",
   "execution_count": 23,
   "id": "e466a0cd-1552-4aa9-b833-55e2cf436894",
   "metadata": {},
   "outputs": [
    {
     "name": "stdout",
     "output_type": "stream",
     "text": [
      "0    2023-03-15\n",
      "1    2023-01-22\n",
      "2    2023-04-18\n",
      "3    2023-08-09\n",
      "4    2023-09-23\n",
      "Name: PurchaseDate, dtype: object\n"
     ]
    }
   ],
   "source": [
    "print(df['PurchaseDate'].head())"
   ]
  },
  {
   "cell_type": "code",
   "execution_count": 24,
   "id": "6b7e0e94-2327-4571-8adf-875cf27cfe67",
   "metadata": {},
   "outputs": [],
   "source": [
    "# Derive TotalAmount if missing or incorrect\n",
    "df['TotalAmount'] = df['Quantity'] * df['Price']\n",
    "# Convert PurchaseDate to datetime\n",
    "df['PurchaseDate'] = pd.to_datetime(df['PurchaseDate'], errors='coerce')"
   ]
  },
  {
   "cell_type": "code",
   "execution_count": 25,
   "id": "2e3ab498-6533-487e-8ec3-16dc0998aa24",
   "metadata": {},
   "outputs": [],
   "source": [
    "# Extract Month and DayOfWeek\n",
    "df['Month'] = df['PurchaseDate'].dt.month\n",
    "df['DayOfWeek'] = df['PurchaseDate'].dt.day_name()"
   ]
  },
  {
   "cell_type": "code",
   "execution_count": 33,
   "id": "34df0514-8286-4b7a-bd63-65f07127164c",
   "metadata": {},
   "outputs": [
    {
     "name": "stdout",
     "output_type": "stream",
     "text": [
      "   Age AgeGroup\n",
      "0   33    26-40\n",
      "1   20    18-25\n",
      "2   47    41-60\n",
      "3   21    18-25\n",
      "4   41    41-60\n",
      "5   63      60+\n",
      "6   30    26-40\n",
      "7   35    26-40\n",
      "8   41    41-60\n",
      "9   70      60+\n"
     ]
    }
   ],
   "source": [
    "# Ensure Age is numeric (bad values become NaN)\n",
    "df['Age'] = pd.to_numeric(df['Age'], errors='coerce')\n",
    "\n",
    "# Create AgeGroup column using pd.cut\n",
    "df['AgeGroup'] = pd.cut(\n",
    "    df['Age'],\n",
    "    bins=[0, 17, 25, 40, 60, 120],   # Age ranges\n",
    "    labels=[\"<18\", \"18-25\", \"26-40\", \"41-60\", \"60+\"],  # Group labels\n",
    "    right=True                        # Include right edge (e.g., 25 goes into 18-25)\n",
    ")\n",
    "\n",
    "# Optional: check result\n",
    "print(df[['Age', 'AgeGroup']].head(10))"
   ]
  },
  {
   "cell_type": "code",
   "execution_count": 28,
   "id": "3bb01ef4-35d7-411b-a3f9-7c03ef495a1a",
   "metadata": {},
   "outputs": [
    {
     "name": "stdout",
     "output_type": "stream",
     "text": [
      "0    26-40\n",
      "1    18-25\n",
      "2    41-60\n",
      "3    18-25\n",
      "4    41-60\n",
      "Name: AgeGroup, dtype: object\n"
     ]
    }
   ],
   "source": [
    "#shows the first few values of age group\n",
    "print(df['AgeGroup'].head())"
   ]
  },
  {
   "cell_type": "code",
   "execution_count": 29,
   "id": "38958aaa-32c7-4aa2-a6f7-346c54278c25",
   "metadata": {},
   "outputs": [
    {
     "name": "stdout",
     "output_type": "stream",
     "text": [
      "['26-40' '18-25' '41-60' '60+']\n"
     ]
    }
   ],
   "source": [
    "#see all unique groups\n",
    "print(df['AgeGroup'].unique())"
   ]
  },
  {
   "cell_type": "code",
   "execution_count": 32,
   "id": "278000ab-daf0-4f3e-9cc5-401504fa78d9",
   "metadata": {},
   "outputs": [
    {
     "name": "stdout",
     "output_type": "stream",
     "text": [
      "AgeGroup\n",
      "41-60    791\n",
      "26-40    546\n",
      "60+      387\n",
      "18-25    276\n",
      "Name: count, dtype: int64\n"
     ]
    }
   ],
   "source": [
    "#count how many rows per group\n",
    "print(df['AgeGroup'].value_counts())"
   ]
  },
  {
   "cell_type": "code",
   "execution_count": 35,
   "id": "daa29aa5-cfdb-4758-8b61-04f1a42cce2b",
   "metadata": {},
   "outputs": [
    {
     "name": "stdout",
     "output_type": "stream",
     "text": [
      "Empty DataFrame\n",
      "Columns: [TransactionID, CustomerID, Gender, Age, City, ProductCategory, Quantity, Price, PurchaseDate, PaymentMode, TotalAmount, Month, DayOfWeek, AgeGroup]\n",
      "Index: []\n"
     ]
    }
   ],
   "source": [
    "under18 = df[(df['Age'] >= 0) & (df['Age'] < 18)]\n",
    "print(under18)"
   ]
  },
  {
   "cell_type": "code",
   "execution_count": 36,
   "id": "c54224af-3f7d-4321-876f-0b12e6e3cdca",
   "metadata": {},
   "outputs": [],
   "source": [
    "from sklearn.preprocessing import LabelEncoder, MinMaxScaler\n",
    "\n",
    "# Encode categorical variables\n",
    "le = LabelEncoder()\n",
    "df['Gender'] = le.fit_transform(df['Gender'])\n",
    "df['City'] = le.fit_transform(df['City'])\n",
    "df['ProductCategory'] = le.fit_transform(df['ProductCategory'])\n",
    "df['PaymentMode'] = le.fit_transform(df['PaymentMode'])\n",
    "df['DayOfWeek'] = le.fit_transform(df['DayOfWeek'])\n",
    "\n",
    "# Normalize numerical columns\n",
    "scaler = MinMaxScaler()\n",
    "df[['Age','Price','TotalAmount']] = scaler.fit_transform(df[['Age','Price','TotalAmount']])"
   ]
  },
  {
   "cell_type": "code",
   "execution_count": 37,
   "id": "f5468575-ad8f-4de0-ab1e-dc1842e395eb",
   "metadata": {},
   "outputs": [
    {
     "name": "stdout",
     "output_type": "stream",
     "text": [
      "TransactionID      0\n",
      "CustomerID         0\n",
      "Gender             0\n",
      "Age                0\n",
      "City               0\n",
      "ProductCategory    0\n",
      "Quantity           0\n",
      "Price              0\n",
      "PurchaseDate       0\n",
      "PaymentMode        0\n",
      "TotalAmount        0\n",
      "Month              0\n",
      "DayOfWeek          0\n",
      "AgeGroup           0\n",
      "dtype: int64\n"
     ]
    }
   ],
   "source": [
    "# Check for remaining missing values\n",
    "print(df.isnull().sum())\n"
   ]
  },
  {
   "cell_type": "code",
   "execution_count": 38,
   "id": "29523171-7895-45cc-b348-3a7a5be5f16e",
   "metadata": {},
   "outputs": [
    {
     "name": "stdout",
     "output_type": "stream",
     "text": [
      "Cleaned dataset Retail_Cleaned.csv\n"
     ]
    }
   ],
   "source": [
    "# Save cleaned dataset\n",
    "df.to_csv(\"Retail_Cleaned.csv\", index=False)\n",
    "print(\"Cleaned dataset Retail_Cleaned.csv\")"
   ]
  },
  {
   "cell_type": "code",
   "execution_count": null,
   "id": "d0ec2d5e-db3c-4586-8b94-8d743e6395c4",
   "metadata": {},
   "outputs": [],
   "source": []
  }
 ],
 "metadata": {
  "kernelspec": {
   "display_name": "Python [conda env:base] *",
   "language": "python",
   "name": "conda-base-py"
  },
  "language_info": {
   "codemirror_mode": {
    "name": "ipython",
    "version": 3
   },
   "file_extension": ".py",
   "mimetype": "text/x-python",
   "name": "python",
   "nbconvert_exporter": "python",
   "pygments_lexer": "ipython3",
   "version": "3.13.5"
  }
 },
 "nbformat": 4,
 "nbformat_minor": 5
}
